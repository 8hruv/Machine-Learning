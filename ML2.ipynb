{
  "nbformat": 4,
  "nbformat_minor": 0,
  "metadata": {
    "colab": {
      "name": "ML2.ipynb",
      "provenance": [],
      "collapsed_sections": []
    },
    "kernelspec": {
      "name": "python3",
      "display_name": "Python 3"
    },
    "language_info": {
      "name": "python"
    }
  },
  "cells": [
    {
      "cell_type": "code",
      "source": [
        "import numpy as np\n",
        "\n",
        "a=np.array([[[1,2,3,9],[3,4,5,10],[6,7,8,10]],[[1,2,3,10],[3,4,5,10],\n",
        "[6,7,8,10]],[[1,2,3,10],[3,4,5,10],[6,7,8,10]]])\n",
        "\n",
        "print(a.ndim)\n",
        "\n",
        "print(a.shape)\n",
        "\n",
        "print(a.size)\n",
        "\n",
        "a=np.arange(24).reshape(2,3,4)\n",
        "\n",
        "a.resize(3,8)\n",
        "\n",
        "print(a)"
      ],
      "metadata": {
        "colab": {
          "base_uri": "https://localhost:8080/"
        },
        "id": "o8hUZHDUzNlW",
        "outputId": "38911efc-9547-475d-b886-31408dd86b3a"
      },
      "execution_count": 1,
      "outputs": [
        {
          "output_type": "stream",
          "name": "stdout",
          "text": [
            "3\n",
            "(3, 3, 4)\n",
            "36\n",
            "[[ 0  1  2  3  4  5  6  7]\n",
            " [ 8  9 10 11 12 13 14 15]\n",
            " [16 17 18 19 20 21 22 23]]\n"
          ]
        }
      ]
    },
    {
      "cell_type": "code",
      "source": [
        "b = np.array([[1.5,2,3], [4,5,6]])\n",
        "c = np.array( [ [1,2], [3,4] ], dtype=complex )\n",
        "\n",
        "print(b)\n",
        "print(b.dtype)\n",
        "\n",
        "print(c)"
      ],
      "metadata": {
        "colab": {
          "base_uri": "https://localhost:8080/"
        },
        "id": "pBLoMI4JzNoQ",
        "outputId": "81039264-cb54-4891-ccd8-3beab4dbf096"
      },
      "execution_count": 2,
      "outputs": [
        {
          "output_type": "stream",
          "name": "stdout",
          "text": [
            "[[1.5 2.  3. ]\n",
            " [4.  5.  6. ]]\n",
            "float64\n",
            "[[1.+0.j 2.+0.j]\n",
            " [3.+0.j 4.+0.j]]\n"
          ]
        }
      ]
    },
    {
      "cell_type": "code",
      "source": [
        "c = np.array( [ [1,2], [3,4] ], dtype=complex )    # type of array explicitly defined\n",
        "c"
      ],
      "metadata": {
        "colab": {
          "base_uri": "https://localhost:8080/"
        },
        "id": "O-_nO-bizNq6",
        "outputId": "387af22e-0e8c-4b0c-86cd-9cc21c354e1f"
      },
      "execution_count": 3,
      "outputs": [
        {
          "output_type": "execute_result",
          "data": {
            "text/plain": [
              "array([[1.+0.j, 2.+0.j],\n",
              "       [3.+0.j, 4.+0.j]])"
            ]
          },
          "metadata": {},
          "execution_count": 3
        }
      ]
    },
    {
      "cell_type": "code",
      "source": [
        "c=np.empty( (2,3) )\n",
        "print(c)\n",
        "b=np.ones( (2,3,4), dtype=np.int16 ) \n",
        "b"
      ],
      "metadata": {
        "colab": {
          "base_uri": "https://localhost:8080/"
        },
        "id": "o5UOEFXqzNtq",
        "outputId": "1b5a3757-ec84-4374-98a4-fa8aaf6ed895"
      },
      "execution_count": 4,
      "outputs": [
        {
          "output_type": "stream",
          "name": "stdout",
          "text": [
            "[[1.5 2.  3. ]\n",
            " [4.  5.  6. ]]\n"
          ]
        },
        {
          "output_type": "execute_result",
          "data": {
            "text/plain": [
              "array([[[1, 1, 1, 1],\n",
              "        [1, 1, 1, 1],\n",
              "        [1, 1, 1, 1]],\n",
              "\n",
              "       [[1, 1, 1, 1],\n",
              "        [1, 1, 1, 1],\n",
              "        [1, 1, 1, 1]]], dtype=int16)"
            ]
          },
          "metadata": {},
          "execution_count": 4
        }
      ]
    },
    {
      "cell_type": "code",
      "source": [
        "b=np.ones( (2,3,4), dtype=np.int16 )\n",
        "n=np.empty((2,5))\n",
        "print(n)"
      ],
      "metadata": {
        "colab": {
          "base_uri": "https://localhost:8080/"
        },
        "id": "glU-aBeqzNwY",
        "outputId": "bfbd8bf0-9db5-48e5-ee4a-1382dd4a4b82"
      },
      "execution_count": 5,
      "outputs": [
        {
          "output_type": "stream",
          "name": "stdout",
          "text": [
            "[[4.66518448e-310 3.60739284e-313 1.38338381e-322 4.66518448e-310\n",
            "  0.00000000e+000]\n",
            " [0.00000000e+000 4.94065646e-323 0.00000000e+000 0.00000000e+000\n",
            "  0.00000000e+000]]\n"
          ]
        }
      ]
    },
    {
      "cell_type": "code",
      "source": [
        "\n",
        "c=np.linspace( 0, 2, 9 )\n",
        "ca=np.arange( 0, 2, 9 )\n",
        "b=np.linspace( 0, 2, 5 )\n",
        "ba=np.arange( 0, 2, 5 )\n",
        "a=np.linspace( 0, 2, 20 )\n",
        "\n",
        "\n",
        "aa=np.arange( 0, 2, 20 )\n",
        "\n",
        "\n",
        "\n",
        "print(a ,aa ,b,ba,c,ca, sep='\\n') "
      ],
      "metadata": {
        "colab": {
          "base_uri": "https://localhost:8080/"
        },
        "id": "5eAKdx0-zNy8",
        "outputId": "a0a2656d-b6de-4ce8-ba24-7185702daaca"
      },
      "execution_count": 6,
      "outputs": [
        {
          "output_type": "stream",
          "name": "stdout",
          "text": [
            "[0.         0.10526316 0.21052632 0.31578947 0.42105263 0.52631579\n",
            " 0.63157895 0.73684211 0.84210526 0.94736842 1.05263158 1.15789474\n",
            " 1.26315789 1.36842105 1.47368421 1.57894737 1.68421053 1.78947368\n",
            " 1.89473684 2.        ]\n",
            "[0]\n",
            "[0.  0.5 1.  1.5 2. ]\n",
            "[0]\n",
            "[0.   0.25 0.5  0.75 1.   1.25 1.5  1.75 2.  ]\n",
            "[0]\n"
          ]
        }
      ]
    },
    {
      "cell_type": "code",
      "source": [
        "import numpy as np \n",
        "a = np.array([0,30,45,60,90]) \n",
        "\n",
        "print('Sine of different angles:' )\n",
        "# Convert to radians by multiplying with pi/180 \n",
        "print(np.sin(a*np.pi/180) )\n",
        "print('\\n' ) \n",
        "\n",
        "print( 'Cosine values for angles in array:' )\n",
        "print(np.cos(a*np.pi/180))\n",
        "print ('\\n' ) \n",
        "\n",
        "print('Tangent values for given angles:' )\n",
        "print(np.tan(a*np.pi/180))"
      ],
      "metadata": {
        "colab": {
          "base_uri": "https://localhost:8080/"
        },
        "id": "oLfH96MTzN1x",
        "outputId": "e5a7e221-e4cc-4b3a-dd6f-fd09cb06776c"
      },
      "execution_count": 7,
      "outputs": [
        {
          "output_type": "stream",
          "name": "stdout",
          "text": [
            "Sine of different angles:\n",
            "[0.         0.5        0.70710678 0.8660254  1.        ]\n",
            "\n",
            "\n",
            "Cosine values for angles in array:\n",
            "[1.00000000e+00 8.66025404e-01 7.07106781e-01 5.00000000e-01\n",
            " 6.12323400e-17]\n",
            "\n",
            "\n",
            "Tangent values for given angles:\n",
            "[0.00000000e+00 5.77350269e-01 1.00000000e+00 1.73205081e+00\n",
            " 1.63312394e+16]\n"
          ]
        }
      ]
    },
    {
      "cell_type": "code",
      "source": [
        "# Create an array with random values \n",
        "e = np.random.random((2, 2)) \n",
        "print (\"\\nA random array:\\n\", e) \n",
        "  \n",
        "# Create a sequence of integers  \n",
        "# from 0 to 30 with steps of 5 \n",
        "f = np.arange(0, 30, 5) \n",
        "print (\"\\nA sequential array with steps of 5:\\n\", f) \n",
        "  \n",
        "# Create a sequence of 10 values in range 0 to 5 \n",
        "g = np.linspace(0, 5, 10) \n",
        "print (\"\\nA sequential array with 10 values between\"\n",
        "                                        \"0 and 5:\\n\", g) \n",
        "  \n",
        "# Reshaping 3X4 array to 2X2X3 array \n",
        "arr = np.array([[1, 2, 3, 4], \n",
        "                [5, 2, 4, 2], \n",
        "                [1, 2, 0, 1]]) \n",
        "  \n",
        "newarr = arr.reshape(2, 2, 3) \n",
        "  \n",
        "print (\"\\nOriginal array:\\n\", arr) \n",
        "print (\"Reshaped array:\\n\", newarr) \n",
        "  \n",
        "# Flatten array \n",
        "arr = np.array([[1, 2, 3], [4, 5, 6]]) \n",
        "flarr = arr.flatten() \n",
        "  \n",
        "print (\"\\nOriginal array:\\n\", arr) \n",
        "print (\"Fattened array:\\n\", flarr) "
      ],
      "metadata": {
        "colab": {
          "base_uri": "https://localhost:8080/"
        },
        "id": "anUrengozN4W",
        "outputId": "bd4c7f52-5e4c-4e48-f2c2-b1848de3b2ac"
      },
      "execution_count": 8,
      "outputs": [
        {
          "output_type": "stream",
          "name": "stdout",
          "text": [
            "\n",
            "A random array:\n",
            " [[0.31482847 0.8006545 ]\n",
            " [0.13249367 0.9166596 ]]\n",
            "\n",
            "A sequential array with steps of 5:\n",
            " [ 0  5 10 15 20 25]\n",
            "\n",
            "A sequential array with 10 values between0 and 5:\n",
            " [0.         0.55555556 1.11111111 1.66666667 2.22222222 2.77777778\n",
            " 3.33333333 3.88888889 4.44444444 5.        ]\n",
            "\n",
            "Original array:\n",
            " [[1 2 3 4]\n",
            " [5 2 4 2]\n",
            " [1 2 0 1]]\n",
            "Reshaped array:\n",
            " [[[1 2 3]\n",
            "  [4 5 2]]\n",
            "\n",
            " [[4 2 1]\n",
            "  [2 0 1]]]\n",
            "\n",
            "Original array:\n",
            " [[1 2 3]\n",
            " [4 5 6]]\n",
            "Fattened array:\n",
            " [1 2 3 4 5 6]\n"
          ]
        }
      ]
    },
    {
      "cell_type": "code",
      "source": [
        "import numpy as np\n",
        "  \n",
        "a = np.array([[1, 2], \n",
        "              [3, 4]]) \n",
        "  \n",
        "b = np.array([[5, 6], \n",
        "              [7, 8]]) \n",
        "  \n",
        "# vertical stacking \n",
        "print(\"Vertical stacking:\\n\", np.vstack((a, b))) \n",
        "  \n",
        "# horizontal stacking \n",
        "print(\"\\nHorizontal stacking:\\n\", np.hstack((a, b))) \n",
        "  \n",
        "c = [5, 6] \n",
        "  \n",
        "# stacking columns \n",
        "print(\"\\nColumn stacking:\\n\", np.column_stack((a, c))) \n",
        "  \n",
        "# concatenation method  \n",
        "print(\"\\nConcatenating to 2nd axis:\\n\", np.concatenate((a, b), 1)) "
      ],
      "metadata": {
        "colab": {
          "base_uri": "https://localhost:8080/"
        },
        "id": "qnHC3PnmzN_4",
        "outputId": "8e042fdc-a1aa-4092-e2cc-c3ad927867fb"
      },
      "execution_count": 9,
      "outputs": [
        {
          "output_type": "stream",
          "name": "stdout",
          "text": [
            "Vertical stacking:\n",
            " [[1 2]\n",
            " [3 4]\n",
            " [5 6]\n",
            " [7 8]]\n",
            "\n",
            "Horizontal stacking:\n",
            " [[1 2 5 6]\n",
            " [3 4 7 8]]\n",
            "\n",
            "Column stacking:\n",
            " [[1 2 5]\n",
            " [3 4 6]]\n",
            "\n",
            "Concatenating to 2nd axis:\n",
            " [[1 2 5 6]\n",
            " [3 4 7 8]]\n"
          ]
        }
      ]
    },
    {
      "cell_type": "code",
      "source": [
        "import numpy as np \n",
        "  \n",
        "a = np.array([[1, 3, 5, 7, 9, 11], \n",
        "              [2, 4, 6, 8, 10, 12]]) \n",
        "  \n",
        "# horizontal splitting \n",
        "print(\"Splitting along horizontal axis into 2 parts:\\n\", np.hsplit(a, 2)) \n",
        "  \n",
        "# vertical splitting \n",
        "print(\"\\nSplitting along vertical axis into 2 parts:\\n\", np.vsplit(a, 2))"
      ],
      "metadata": {
        "colab": {
          "base_uri": "https://localhost:8080/"
        },
        "id": "6Ex9OOlyzqNp",
        "outputId": "9f94292f-bb76-4e02-f698-bb5cb99844bc"
      },
      "execution_count": 10,
      "outputs": [
        {
          "output_type": "stream",
          "name": "stdout",
          "text": [
            "Splitting along horizontal axis into 2 parts:\n",
            " [array([[1, 3, 5],\n",
            "       [2, 4, 6]]), array([[ 7,  9, 11],\n",
            "       [ 8, 10, 12]])]\n",
            "\n",
            "Splitting along vertical axis into 2 parts:\n",
            " [array([[ 1,  3,  5,  7,  9, 11]]), array([[ 2,  4,  6,  8, 10, 12]])]\n"
          ]
        }
      ]
    },
    {
      "cell_type": "code",
      "source": [
        "# broadcasting Strenching array\n",
        "import numpy as np \n",
        "  \n",
        "a = np.array([0.0, 10.0, 20.0, 30.0])\n",
        "\n",
        "b = np.array([0.0, 1.0, 2.0,5.0]) \n",
        "\n",
        "  \n",
        "print(a + b)"
      ],
      "metadata": {
        "colab": {
          "base_uri": "https://localhost:8080/"
        },
        "id": "BQTGhhqxztlW",
        "outputId": "bc534165-d234-4dbe-d0a5-f82ccfd316c2"
      },
      "execution_count": 11,
      "outputs": [
        {
          "output_type": "stream",
          "name": "stdout",
          "text": [
            "[ 0. 11. 22. 35.]\n"
          ]
        }
      ]
    },
    {
      "cell_type": "code",
      "source": [
        "a = np.ones(3, dtype=np.int32)\n",
        "b = np.linspace(0, 3, 4)\n",
        "print(a)\n",
        "print(b)\n",
        "print(a.sum(), b.min(), b.max())"
      ],
      "metadata": {
        "colab": {
          "base_uri": "https://localhost:8080/"
        },
        "id": "fVFr_iaVz6Dk",
        "outputId": "5545f944-0b92-4138-d51a-4ba41dcd5966"
      },
      "execution_count": 12,
      "outputs": [
        {
          "output_type": "stream",
          "name": "stdout",
          "text": [
            "[1 1 1]\n",
            "[0. 1. 2. 3.]\n",
            "3 0.0 3.0\n"
          ]
        }
      ]
    }
  ]
}