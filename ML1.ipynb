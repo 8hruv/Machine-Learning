{
  "nbformat": 4,
  "nbformat_minor": 0,
  "metadata": {
    "colab": {
      "name": "ML1.ipynb",
      "provenance": [],
      "collapsed_sections": []
    },
    "kernelspec": {
      "name": "python3",
      "display_name": "Python 3"
    },
    "language_info": {
      "name": "python"
    }
  },
  "cells": [
    {
      "cell_type": "code",
      "execution_count": null,
      "metadata": {
        "id": "xgdUBvotxejn"
      },
      "outputs": [],
      "source": [
        "#Append\n",
        "li = [13,65,7,23,54,19]\n",
        "li.append(100)\n",
        "li.append(70)\n",
        "print(li)"
      ]
    },
    {
      "cell_type": "code",
      "source": [
        "#Extend\n",
        "li = [13,65,7,23,54,19]\n",
        "li.extend([100,101])\n",
        "print(li)"
      ],
      "metadata": {
        "id": "HLAeCjPGxjeD"
      },
      "execution_count": null,
      "outputs": []
    },
    {
      "cell_type": "code",
      "source": [
        "#Insert\n",
        "li = [13, 65, 7, 23, 54, 19, 100, 101]\n",
        "li.insert(5,23)\n",
        "print(li)"
      ],
      "metadata": {
        "id": "_kgFg3q6xmVM"
      },
      "execution_count": null,
      "outputs": []
    },
    {
      "cell_type": "code",
      "source": [
        "#Slicing\n",
        "li = [13, 65, 7, 23, 23, 101]\n",
        "print(li[:4])  \n",
        "print(li[2:]) \n",
        "print(li[2:4]) \n",
        "print(li[:])"
      ],
      "metadata": {
        "id": "tIVHb0B2xmXy"
      },
      "execution_count": null,
      "outputs": []
    },
    {
      "cell_type": "code",
      "source": [
        "#Remove\n",
        "li = [13, 65, 7, 23, 54, 23, 19, 100, 101]\n",
        "li.remove(19)\n",
        "print(li)"
      ],
      "metadata": {
        "id": "f8-CN6gixman"
      },
      "execution_count": null,
      "outputs": []
    },
    {
      "cell_type": "code",
      "source": [
        "#length\n",
        "li = [13, 65, 7, 23, 23, 101]\n",
        "print(len(li))"
      ],
      "metadata": {
        "id": "b7SxJM7exmes"
      },
      "execution_count": null,
      "outputs": []
    },
    {
      "cell_type": "code",
      "source": [
        "List = [2,26,26,8,1,10,1,20,8,24,20,9,12,3,1,14,12,19,20,31,3,8,31,30,275,7,14,20,1,25]\n",
        "print(List[::-2])\n",
        "print(List[:5])\n",
        "print(List[3:12:-2])"
      ],
      "metadata": {
        "id": "FSjSxWLxx44s"
      },
      "execution_count": null,
      "outputs": []
    },
    {
      "cell_type": "code",
      "source": [
        "#Max and Min\n",
        "li = [13, 65, 7, 23, 23, 101]\n",
        "print(min(li))\n",
        "print(max(li))\n",
        "print(li.count(23))"
      ],
      "metadata": {
        "id": "J9OcnhYNx460"
      },
      "execution_count": null,
      "outputs": []
    },
    {
      "cell_type": "code",
      "source": [
        "#Reverse\n",
        "li = [13, 65, 7, 23, 23, 101]\n",
        "li.reverse()\n",
        "print(li)"
      ],
      "metadata": {
        "id": "pZBKFn6Lxmmv"
      },
      "execution_count": null,
      "outputs": []
    }
  ]
}